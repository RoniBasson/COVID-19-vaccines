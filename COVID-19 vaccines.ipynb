{
 "cells": [
  {
   "cell_type": "markdown",
   "metadata": {},
   "source": [
    "# Identify:\n",
    "\n",
    "Please fill-in your ID in the following cell, **only id numbers, no names!**\n"
   ]
  },
  {
   "cell_type": "code",
   "execution_count": 20,
   "metadata": {},
   "outputs": [],
   "source": [
    "id1 = \"207651738\"\n",
    "import pandas as pd"
   ]
  },
  {
   "cell_type": "code",
   "execution_count": 21,
   "metadata": {},
   "outputs": [],
   "source": [
    "df = pd.DataFrame([id1])"
   ]
  },
  {
   "cell_type": "markdown",
   "metadata": {},
   "source": [
    "Uncomment in case two students are doing the assignment together:"
   ]
  },
  {
   "cell_type": "code",
   "execution_count": 22,
   "metadata": {},
   "outputs": [],
   "source": [
    "df = pd.DataFrame([id1])"
   ]
  },
  {
   "cell_type": "code",
   "execution_count": 23,
   "metadata": {},
   "outputs": [],
   "source": [
    "df.to_clipboard(index=False,header=False)"
   ]
  },
  {
   "cell_type": "markdown",
   "metadata": {},
   "source": [
    "Please fill your names here:"
   ]
  },
  {
   "cell_type": "markdown",
   "metadata": {},
   "source": [
    "Roni basson"
   ]
  },
  {
   "cell_type": "markdown",
   "metadata": {},
   "source": [
    "---"
   ]
  },
  {
   "cell_type": "markdown",
   "metadata": {},
   "source": [
    "----"
   ]
  },
  {
   "cell_type": "markdown",
   "metadata": {},
   "source": [
    "# Write your answers here\n",
    "\n",
    "add as much lines of code and markdown as you need for each answer"
   ]
  },
  {
   "cell_type": "markdown",
   "metadata": {},
   "source": [
    "# Q1 "
   ]
  },
  {
   "cell_type": "code",
   "execution_count": 24,
   "metadata": {},
   "outputs": [],
   "source": [
    "import pandas as pd\n",
    "import numpy as np\n",
    "my_data = pd.read_csv('https://raw.githubusercontent.com/owid/covid-19-data/master/public/data/vaccinations/vaccinations.csv')\n"
   ]
  },
  {
   "cell_type": "code",
   "execution_count": 25,
   "metadata": {},
   "outputs": [
    {
     "name": "stdout",
     "output_type": "stream",
     "text": [
      "At July 6770 have been vaccinated.\n"
     ]
    }
   ],
   "source": [
    "my_data['date']= pd.to_datetime(my_data['date'])\n",
    "data = my_data['date'].dt.month_name() =='July'\n",
    "month_data = my_data[data].copy() \n",
    "len(month_data)\n",
    "print('At July', len(month_data) ,'have been vaccinated.')"
   ]
  },
  {
   "cell_type": "markdown",
   "metadata": {},
   "source": [
    " # Q2"
   ]
  },
  {
   "cell_type": "code",
   "execution_count": 26,
   "metadata": {},
   "outputs": [
    {
     "data": {
      "text/html": [
       "<div>\n",
       "<style scoped>\n",
       "    .dataframe tbody tr th:only-of-type {\n",
       "        vertical-align: middle;\n",
       "    }\n",
       "\n",
       "    .dataframe tbody tr th {\n",
       "        vertical-align: top;\n",
       "    }\n",
       "\n",
       "    .dataframe thead th {\n",
       "        text-align: right;\n",
       "    }\n",
       "</style>\n",
       "<table border=\"1\" class=\"dataframe\">\n",
       "  <thead>\n",
       "    <tr style=\"text-align: right;\">\n",
       "      <th></th>\n",
       "      <th>location</th>\n",
       "      <th>iso_code</th>\n",
       "      <th>date</th>\n",
       "      <th>total_vaccinations</th>\n",
       "      <th>people_vaccinated</th>\n",
       "      <th>people_fully_vaccinated</th>\n",
       "      <th>total_boosters</th>\n",
       "      <th>daily_vaccinations_raw</th>\n",
       "      <th>daily_vaccinations</th>\n",
       "      <th>total_vaccinations_per_hundred</th>\n",
       "      <th>people_vaccinated_per_hundred</th>\n",
       "      <th>people_fully_vaccinated_per_hundred</th>\n",
       "      <th>total_boosters_per_hundred</th>\n",
       "      <th>daily_vaccinations_per_million</th>\n",
       "    </tr>\n",
       "  </thead>\n",
       "  <tbody>\n",
       "    <tr>\n",
       "      <th>129</th>\n",
       "      <td>Afghanistan</td>\n",
       "      <td>AFG</td>\n",
       "      <td>2021-07-01</td>\n",
       "      <td>NaN</td>\n",
       "      <td>NaN</td>\n",
       "      <td>NaN</td>\n",
       "      <td>NaN</td>\n",
       "      <td>NaN</td>\n",
       "      <td>14115.0</td>\n",
       "      <td>NaN</td>\n",
       "      <td>1.80</td>\n",
       "      <td>NaN</td>\n",
       "      <td>NaN</td>\n",
       "      <td>363.0</td>\n",
       "    </tr>\n",
       "    <tr>\n",
       "      <th>130</th>\n",
       "      <td>Afghanistan</td>\n",
       "      <td>AFG</td>\n",
       "      <td>2021-07-02</td>\n",
       "      <td>NaN</td>\n",
       "      <td>NaN</td>\n",
       "      <td>NaN</td>\n",
       "      <td>NaN</td>\n",
       "      <td>NaN</td>\n",
       "      <td>12944.0</td>\n",
       "      <td>NaN</td>\n",
       "      <td>1.80</td>\n",
       "      <td>NaN</td>\n",
       "      <td>NaN</td>\n",
       "      <td>333.0</td>\n",
       "    </tr>\n",
       "    <tr>\n",
       "      <th>131</th>\n",
       "      <td>Afghanistan</td>\n",
       "      <td>AFG</td>\n",
       "      <td>2021-07-03</td>\n",
       "      <td>NaN</td>\n",
       "      <td>NaN</td>\n",
       "      <td>NaN</td>\n",
       "      <td>NaN</td>\n",
       "      <td>NaN</td>\n",
       "      <td>11773.0</td>\n",
       "      <td>NaN</td>\n",
       "      <td>1.80</td>\n",
       "      <td>NaN</td>\n",
       "      <td>NaN</td>\n",
       "      <td>302.0</td>\n",
       "    </tr>\n",
       "    <tr>\n",
       "      <th>132</th>\n",
       "      <td>Afghanistan</td>\n",
       "      <td>AFG</td>\n",
       "      <td>2021-07-04</td>\n",
       "      <td>NaN</td>\n",
       "      <td>NaN</td>\n",
       "      <td>NaN</td>\n",
       "      <td>NaN</td>\n",
       "      <td>NaN</td>\n",
       "      <td>10602.0</td>\n",
       "      <td>NaN</td>\n",
       "      <td>1.80</td>\n",
       "      <td>NaN</td>\n",
       "      <td>NaN</td>\n",
       "      <td>272.0</td>\n",
       "    </tr>\n",
       "    <tr>\n",
       "      <th>133</th>\n",
       "      <td>Afghanistan</td>\n",
       "      <td>AFG</td>\n",
       "      <td>2021-07-05</td>\n",
       "      <td>915671.0</td>\n",
       "      <td>726349.0</td>\n",
       "      <td>189322.0</td>\n",
       "      <td>NaN</td>\n",
       "      <td>NaN</td>\n",
       "      <td>8989.0</td>\n",
       "      <td>2.35</td>\n",
       "      <td>1.87</td>\n",
       "      <td>0.49</td>\n",
       "      <td>NaN</td>\n",
       "      <td>231.0</td>\n",
       "    </tr>\n",
       "    <tr>\n",
       "      <th>...</th>\n",
       "      <td>...</td>\n",
       "      <td>...</td>\n",
       "      <td>...</td>\n",
       "      <td>...</td>\n",
       "      <td>...</td>\n",
       "      <td>...</td>\n",
       "      <td>...</td>\n",
       "      <td>...</td>\n",
       "      <td>...</td>\n",
       "      <td>...</td>\n",
       "      <td>...</td>\n",
       "      <td>...</td>\n",
       "      <td>...</td>\n",
       "      <td>...</td>\n",
       "    </tr>\n",
       "    <tr>\n",
       "      <th>40313</th>\n",
       "      <td>Zimbabwe</td>\n",
       "      <td>ZWE</td>\n",
       "      <td>2021-07-27</td>\n",
       "      <td>2275145.0</td>\n",
       "      <td>1561994.0</td>\n",
       "      <td>713151.0</td>\n",
       "      <td>NaN</td>\n",
       "      <td>96727.0</td>\n",
       "      <td>54014.0</td>\n",
       "      <td>15.31</td>\n",
       "      <td>10.51</td>\n",
       "      <td>4.80</td>\n",
       "      <td>NaN</td>\n",
       "      <td>3634.0</td>\n",
       "    </tr>\n",
       "    <tr>\n",
       "      <th>40314</th>\n",
       "      <td>Zimbabwe</td>\n",
       "      <td>ZWE</td>\n",
       "      <td>2021-07-28</td>\n",
       "      <td>2323763.0</td>\n",
       "      <td>1593365.0</td>\n",
       "      <td>730398.0</td>\n",
       "      <td>NaN</td>\n",
       "      <td>48618.0</td>\n",
       "      <td>53512.0</td>\n",
       "      <td>15.63</td>\n",
       "      <td>10.72</td>\n",
       "      <td>4.91</td>\n",
       "      <td>NaN</td>\n",
       "      <td>3600.0</td>\n",
       "    </tr>\n",
       "    <tr>\n",
       "      <th>40315</th>\n",
       "      <td>Zimbabwe</td>\n",
       "      <td>ZWE</td>\n",
       "      <td>2021-07-29</td>\n",
       "      <td>2375090.0</td>\n",
       "      <td>1623583.0</td>\n",
       "      <td>751507.0</td>\n",
       "      <td>NaN</td>\n",
       "      <td>51327.0</td>\n",
       "      <td>51183.0</td>\n",
       "      <td>15.98</td>\n",
       "      <td>10.92</td>\n",
       "      <td>5.06</td>\n",
       "      <td>NaN</td>\n",
       "      <td>3444.0</td>\n",
       "    </tr>\n",
       "    <tr>\n",
       "      <th>40316</th>\n",
       "      <td>Zimbabwe</td>\n",
       "      <td>ZWE</td>\n",
       "      <td>2021-07-30</td>\n",
       "      <td>2413238.0</td>\n",
       "      <td>1645308.0</td>\n",
       "      <td>767930.0</td>\n",
       "      <td>NaN</td>\n",
       "      <td>38148.0</td>\n",
       "      <td>48781.0</td>\n",
       "      <td>16.24</td>\n",
       "      <td>11.07</td>\n",
       "      <td>5.17</td>\n",
       "      <td>NaN</td>\n",
       "      <td>3282.0</td>\n",
       "    </tr>\n",
       "    <tr>\n",
       "      <th>40317</th>\n",
       "      <td>Zimbabwe</td>\n",
       "      <td>ZWE</td>\n",
       "      <td>2021-07-31</td>\n",
       "      <td>2433070.0</td>\n",
       "      <td>1653821.0</td>\n",
       "      <td>779249.0</td>\n",
       "      <td>NaN</td>\n",
       "      <td>19832.0</td>\n",
       "      <td>45242.0</td>\n",
       "      <td>16.37</td>\n",
       "      <td>11.13</td>\n",
       "      <td>5.24</td>\n",
       "      <td>NaN</td>\n",
       "      <td>3044.0</td>\n",
       "    </tr>\n",
       "  </tbody>\n",
       "</table>\n",
       "<p>6770 rows × 14 columns</p>\n",
       "</div>"
      ],
      "text/plain": [
       "          location iso_code       date  total_vaccinations  people_vaccinated  \\\n",
       "129    Afghanistan      AFG 2021-07-01                 NaN                NaN   \n",
       "130    Afghanistan      AFG 2021-07-02                 NaN                NaN   \n",
       "131    Afghanistan      AFG 2021-07-03                 NaN                NaN   \n",
       "132    Afghanistan      AFG 2021-07-04                 NaN                NaN   \n",
       "133    Afghanistan      AFG 2021-07-05            915671.0           726349.0   \n",
       "...            ...      ...        ...                 ...                ...   \n",
       "40313     Zimbabwe      ZWE 2021-07-27           2275145.0          1561994.0   \n",
       "40314     Zimbabwe      ZWE 2021-07-28           2323763.0          1593365.0   \n",
       "40315     Zimbabwe      ZWE 2021-07-29           2375090.0          1623583.0   \n",
       "40316     Zimbabwe      ZWE 2021-07-30           2413238.0          1645308.0   \n",
       "40317     Zimbabwe      ZWE 2021-07-31           2433070.0          1653821.0   \n",
       "\n",
       "       people_fully_vaccinated  total_boosters  daily_vaccinations_raw  \\\n",
       "129                        NaN             NaN                     NaN   \n",
       "130                        NaN             NaN                     NaN   \n",
       "131                        NaN             NaN                     NaN   \n",
       "132                        NaN             NaN                     NaN   \n",
       "133                   189322.0             NaN                     NaN   \n",
       "...                        ...             ...                     ...   \n",
       "40313                 713151.0             NaN                 96727.0   \n",
       "40314                 730398.0             NaN                 48618.0   \n",
       "40315                 751507.0             NaN                 51327.0   \n",
       "40316                 767930.0             NaN                 38148.0   \n",
       "40317                 779249.0             NaN                 19832.0   \n",
       "\n",
       "       daily_vaccinations  total_vaccinations_per_hundred  \\\n",
       "129               14115.0                             NaN   \n",
       "130               12944.0                             NaN   \n",
       "131               11773.0                             NaN   \n",
       "132               10602.0                             NaN   \n",
       "133                8989.0                            2.35   \n",
       "...                   ...                             ...   \n",
       "40313             54014.0                           15.31   \n",
       "40314             53512.0                           15.63   \n",
       "40315             51183.0                           15.98   \n",
       "40316             48781.0                           16.24   \n",
       "40317             45242.0                           16.37   \n",
       "\n",
       "       people_vaccinated_per_hundred  people_fully_vaccinated_per_hundred  \\\n",
       "129                             1.80                                  NaN   \n",
       "130                             1.80                                  NaN   \n",
       "131                             1.80                                  NaN   \n",
       "132                             1.80                                  NaN   \n",
       "133                             1.87                                 0.49   \n",
       "...                              ...                                  ...   \n",
       "40313                          10.51                                 4.80   \n",
       "40314                          10.72                                 4.91   \n",
       "40315                          10.92                                 5.06   \n",
       "40316                          11.07                                 5.17   \n",
       "40317                          11.13                                 5.24   \n",
       "\n",
       "       total_boosters_per_hundred  daily_vaccinations_per_million  \n",
       "129                           NaN                           363.0  \n",
       "130                           NaN                           333.0  \n",
       "131                           NaN                           302.0  \n",
       "132                           NaN                           272.0  \n",
       "133                           NaN                           231.0  \n",
       "...                           ...                             ...  \n",
       "40313                         NaN                          3634.0  \n",
       "40314                         NaN                          3600.0  \n",
       "40315                         NaN                          3444.0  \n",
       "40316                         NaN                          3282.0  \n",
       "40317                         NaN                          3044.0  \n",
       "\n",
       "[6770 rows x 14 columns]"
      ]
     },
     "execution_count": 26,
     "metadata": {},
     "output_type": "execute_result"
    }
   ],
   "source": [
    "month_data[['daily_vaccinations']].isnull().sum()\n",
    "month_data['daily_vaccinations'] = my_data.groupby('location')[['daily_vaccinations']].apply(lambda ln: ln.fillna(method = 'ffill'))\n",
    "month_data['people_vaccinated_per_hundred'] = my_data.groupby('location')[['people_vaccinated_per_hundred']].apply(lambda ln: ln.fillna(method = 'ffill'))\n",
    "month_data"
   ]
  },
  {
   "cell_type": "markdown",
   "metadata": {},
   "source": [
    " בחרתי להשתמש בפונקציה זו כדי למלא כל ערך חסר בערך שהיה אחד לפניו מתוך ההנחה כי רוצים לחסן כמה שיותר והערכים החסרים נבעו מחוסר עדכון של המערכת, או בעיות תקשורות כאלה ואחרות, ולא כי לא חיסנו כלל באותם התאריכים. בנוסף כאשר יש מעבר בין מדינות הגדרתי שלא לקחת את הערך שלפניו כי אחרת אין בכך מן ההגיון לקחת את הכמות של מדינה אחרת."
   ]
  },
  {
   "cell_type": "markdown",
   "metadata": {},
   "source": [
    "# Q3"
   ]
  },
  {
   "cell_type": "code",
   "execution_count": 27,
   "metadata": {},
   "outputs": [
    {
     "data": {
      "text/html": [
       "<div>\n",
       "<style scoped>\n",
       "    .dataframe tbody tr th:only-of-type {\n",
       "        vertical-align: middle;\n",
       "    }\n",
       "\n",
       "    .dataframe tbody tr th {\n",
       "        vertical-align: top;\n",
       "    }\n",
       "\n",
       "    .dataframe thead th {\n",
       "        text-align: right;\n",
       "    }\n",
       "</style>\n",
       "<table border=\"1\" class=\"dataframe\">\n",
       "  <thead>\n",
       "    <tr style=\"text-align: right;\">\n",
       "      <th></th>\n",
       "      <th>location</th>\n",
       "      <th>date</th>\n",
       "    </tr>\n",
       "  </thead>\n",
       "  <tbody>\n",
       "    <tr>\n",
       "      <th>7410</th>\n",
       "      <td>China</td>\n",
       "      <td>2021-07-01</td>\n",
       "    </tr>\n",
       "  </tbody>\n",
       "</table>\n",
       "</div>"
      ],
      "text/plain": [
       "     location       date\n",
       "7410    China 2021-07-01"
      ]
     },
     "execution_count": 27,
     "metadata": {},
     "output_type": "execute_result"
    }
   ],
   "source": [
    "month_data = month_data[~month_data['location'].isin(['Asia','Uppr middel income', 'Usa', 'Africa''Asia','Uppr middel income', 'Usa','World','europe','High income','Upper middle income','North America'\n",
    "])]\n",
    "JulyData = month_data.daily_vaccinations.max()\n",
    "month_data [['location','date']].loc[month_data.daily_vaccinations == JulyData ]"
   ]
  },
  {
   "cell_type": "markdown",
   "metadata": {},
   "source": [
    "# Q4"
   ]
  },
  {
   "cell_type": "code",
   "execution_count": 28,
   "metadata": {},
   "outputs": [
    {
     "data": {
      "text/plain": [
       "248235.5474750529"
      ]
     },
     "execution_count": 28,
     "metadata": {},
     "output_type": "execute_result"
    }
   ],
   "source": [
    "mean_data = month_data['daily_vaccinations'].mean()\n",
    "mean_data"
   ]
  },
  {
   "cell_type": "code",
   "execution_count": 29,
   "metadata": {},
   "outputs": [
    {
     "data": {
      "text/plain": [
       "8874.5"
      ]
     },
     "execution_count": 29,
     "metadata": {},
     "output_type": "execute_result"
    }
   ],
   "source": [
    "median_data = month_data['daily_vaccinations'].median()\n",
    "median_data"
   ]
  },
  {
   "cell_type": "markdown",
   "metadata": {},
   "source": [
    "הממוצע גבוה יותר מהחציון משום שבחודש יולי כמות המתחסנים עלתה, בחודש זה חוקק החוק שכל האנשים אשר חלו בקורונה צריכים להתחסן במנה השניה על מנת להעלות את רמת הנוגדנים ולכן הממוצע גדול יותר כי הוא בנוי מכמות המתחסנים והחציון בנוי מהאמצע של כמות המתחסנים "
   ]
  },
  {
   "cell_type": "markdown",
   "metadata": {},
   "source": [
    "# Q5"
   ]
  },
  {
   "cell_type": "code",
   "execution_count": 30,
   "metadata": {},
   "outputs": [
    {
     "name": "stderr",
     "output_type": "stream",
     "text": [
      "<ipython-input-30-4ae1e226c881>:3: SettingWithCopyWarning: \n",
      "A value is trying to be set on a copy of a slice from a DataFrame.\n",
      "Try using .loc[row_indexer,col_indexer] = value instead\n",
      "\n",
      "See the caveats in the documentation: https://pandas.pydata.org/pandas-docs/stable/user_guide/indexing.html#returning-a-view-versus-a-copy\n",
      "  month_data['day'] = pd.DatetimeIndex(month_data['date']).day\n"
     ]
    },
    {
     "data": {
      "text/plain": [
       "66.19580645161291"
      ]
     },
     "execution_count": 30,
     "metadata": {},
     "output_type": "execute_result"
    }
   ],
   "source": [
    "israel_data = month_data[month_data['location'].str.contains('Israel')]\n",
    "israel_data = israel_data.copy() \n",
    "month_data['day'] = pd.DatetimeIndex(month_data['date']).day\n",
    "israel_datal = month_data[month_data['day']<=7]\n",
    "israel_data = israel_data['people_vaccinated_per_hundred'].mean()\n",
    "israel_data"
   ]
  },
  {
   "cell_type": "markdown",
   "metadata": {},
   "source": [
    "# Q6"
   ]
  },
  {
   "cell_type": "code",
   "execution_count": 31,
   "metadata": {},
   "outputs": [
    {
     "data": {
      "text/plain": [
       "location\n",
       "Gibraltar    116.637097\n",
       "Pitcairn     100.000000\n",
       "Malta         86.166774\n",
       "Name: people_vaccinated_per_hundred, dtype: float64"
      ]
     },
     "execution_count": 31,
     "metadata": {},
     "output_type": "execute_result"
    }
   ],
   "source": [
    "max_vacc= month_data.groupby(['location'])['people_vaccinated_per_hundred'].mean()\n",
    "max_vacc = max_vacc.copy()\n",
    "max_vacc = max_vacc.sort_values(ascending=False)\n",
    "max_vacc = max_vacc.iloc[:3]\n",
    "max_vacc"
   ]
  },
  {
   "cell_type": "markdown",
   "metadata": {},
   "source": [
    "# Q7"
   ]
  },
  {
   "cell_type": "code",
   "execution_count": null,
   "metadata": {},
   "outputs": [],
   "source": []
  },
  {
   "cell_type": "markdown",
   "metadata": {},
   "source": [
    "---\n",
    "# GOOD LUCK !!!!\n",
    "---"
   ]
  },
  {
   "cell_type": "code",
   "execution_count": null,
   "metadata": {},
   "outputs": [],
   "source": [
    "# do not type below this line"
   ]
  }
 ],
 "metadata": {
  "kernelspec": {
   "display_name": "Python 3",
   "language": "python",
   "name": "python3"
  },
  "language_info": {
   "codemirror_mode": {
    "name": "ipython",
    "version": 3
   },
   "file_extension": ".py",
   "mimetype": "text/x-python",
   "name": "python",
   "nbconvert_exporter": "python",
   "pygments_lexer": "ipython3",
   "version": "3.8.5"
  }
 },
 "nbformat": 4,
 "nbformat_minor": 4
}
